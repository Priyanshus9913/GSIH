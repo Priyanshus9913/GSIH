{
 "cells": [
  {
   "cell_type": "code",
   "execution_count": null,
   "metadata": {},
   "outputs": [
    {
     "ename": "",
     "evalue": "",
     "output_type": "error",
     "traceback": [
      "\u001b[1;31mFailed to start the Kernel. \n",
      "\u001b[1;31mUnable to start Kernel 'Python 3.10.8' due to a timeout waiting for the ports to get used. \n",
      "\u001b[1;31mView Jupyter <a href='command:jupyter.viewOutput'>log</a> for further details."
     ]
    }
   ],
   "source": [
    "import numpy as np\n",
    "import pandas as pd\n",
    "from sklearn.preprocessing import LabelEncoder"
   ]
  },
  {
   "cell_type": "code",
   "execution_count": null,
   "metadata": {},
   "outputs": [],
   "source": [
    "data= pd.read_csv('Option Pricing Model.csv')"
   ]
  },
  {
   "cell_type": "code",
   "execution_count": null,
   "metadata": {},
   "outputs": [],
   "source": [
    "data.head()"
   ]
  },
  {
   "cell_type": "code",
   "execution_count": null,
   "metadata": {},
   "outputs": [],
   "source": [
    "data['OptionType'].value_counts()"
   ]
  },
  {
   "cell_type": "code",
   "execution_count": null,
   "metadata": {},
   "outputs": [],
   "source": [
    "label_encoder = LabelEncoder()\n",
    "data['OptionType'] = label_encoder.fit_transform(data['OptionType'])"
   ]
  },
  {
   "cell_type": "code",
   "execution_count": null,
   "metadata": {},
   "outputs": [],
   "source": [
    "data.head()"
   ]
  },
  {
   "cell_type": "code",
   "execution_count": null,
   "metadata": {},
   "outputs": [],
   "source": [
    "data['OptionType'].value_counts()"
   ]
  },
  {
   "cell_type": "code",
   "execution_count": null,
   "metadata": {},
   "outputs": [],
   "source": [
    "X= data.drop(['OptionPrice','Id'], axis=1)\n",
    "y= data['OptionPrice']"
   ]
  },
  {
   "cell_type": "code",
   "execution_count": null,
   "metadata": {},
   "outputs": [],
   "source": [
    "X.head()"
   ]
  },
  {
   "cell_type": "code",
   "execution_count": null,
   "metadata": {},
   "outputs": [],
   "source": [
    "y.head()"
   ]
  },
  {
   "cell_type": "code",
   "execution_count": null,
   "metadata": {},
   "outputs": [],
   "source": [
    "mean = X.mean()\n",
    "std_dev = X.std()"
   ]
  },
  {
   "cell_type": "code",
   "execution_count": null,
   "metadata": {},
   "outputs": [],
   "source": [
    "std_dev"
   ]
  },
  {
   "cell_type": "code",
   "execution_count": null,
   "metadata": {},
   "outputs": [],
   "source": [
    "def standard_transform(df, mean, std_dev):\n",
    "    \"\"\"\n",
    "    Standardize the input DataFrame using provided mean and standard deviation.\n",
    "    \n",
    "    Parameters:\n",
    "    df (pd.DataFrame): The input DataFrame to be standardized.\n",
    "    mean (pd.Series): The mean of each column in the original DataFrame.\n",
    "    std_dev (pd.Series): The standard deviation of each column in the original DataFrame.\n",
    "    \n",
    "    Returns:\n",
    "    pd.DataFrame: The standardized DataFrame (z-scores).\n",
    "    \"\"\"\n",
    "    # Standardize the DataFrame\n",
    "    standardized_df = (df - mean) / std_dev\n",
    "    return standardized_df"
   ]
  },
  {
   "cell_type": "code",
   "execution_count": null,
   "metadata": {},
   "outputs": [],
   "source": [
    "mean = X.mean()\n",
    "std_dev = X.std()\n",
    "X = standard_transform(X, mean, std_dev)"
   ]
  },
  {
   "cell_type": "code",
   "execution_count": null,
   "metadata": {},
   "outputs": [],
   "source": [
    "X"
   ]
  },
  {
   "cell_type": "code",
   "execution_count": null,
   "metadata": {},
   "outputs": [],
   "source": [
    "from sklearn.preprocessing import PolynomialFeatures\n",
    "poly = PolynomialFeatures(degree=5, include_bias=False)\n",
    "X = poly.fit_transform(X)"
   ]
  },
  {
   "cell_type": "code",
   "execution_count": null,
   "metadata": {},
   "outputs": [],
   "source": [
    "X.shape"
   ]
  },
  {
   "cell_type": "code",
   "execution_count": null,
   "metadata": {},
   "outputs": [],
   "source": [
    "from sklearn.model_selection import train_test_split\n",
    "from sklearn.metrics import mean_squared_error\n",
    "X_train, X_test, Y_train, Y_test = train_test_split(X, y, test_size=0.2, random_state=42)"
   ]
  },
  {
   "cell_type": "code",
   "execution_count": null,
   "metadata": {},
   "outputs": [],
   "source": [
    "from sklearn.linear_model import Lasso\n",
    "from sklearn.linear_model import LinearRegression\n",
    "\n",
    "# Initialize the Lasso model\n",
    "lasso_regressor = Lasso(alpha=0.001)  # You can adjust alpha for regularization strength\n",
    "linear = LinearRegression()  # You can adjust alpha for regularization strength\n",
    "\n",
    "# Fit the model\n",
    "lasso_regressor.fit(X_train, Y_train)\n",
    "\n",
    "# Get the predictions for training and testing data\n",
    "# Y_train_pred_lasso = lasso_regressor.predict(X_train)\n",
    "# Y_test_pred_lasso = lasso_regressor.predict(X_test)\n",
    "\n",
    "# # Calculate MSE for Lasso\n",
    "# mse_lasso_train = mean_squared_error(Y_train, Y_train_pred_lasso)\n",
    "# mse_lasso_test = mean_squared_error(Y_test, Y_test_pred_lasso)\n",
    "\n",
    "# print(\"Lasso MSE Train:\", mse_lasso_train)\n",
    "# print(\"Lasso MSE Test:\", mse_lasso_test)"
   ]
  },
  {
   "cell_type": "code",
   "execution_count": null,
   "metadata": {},
   "outputs": [],
   "source": [
    "weights = lasso_regressor.coef_\n",
    "intercept = lasso_regressor.intercept_\n",
    "\n",
    "def Predict(lasso_weights, intercept, inp):\n",
    "    \"\"\"\n",
    "    Predict the target values using Lasso regression weights and intercept.\n",
    "\n",
    "    Parameters:\n",
    "    lasso_weights (np.array): Coefficients from the fitted Lasso model.\n",
    "    intercept (float): Intercept from the fitted Lasso model.\n",
    "    inp (np.array): Test features.\n",
    "\n",
    "    Returns:\n",
    "    np.array: Predicted values for Y.\n",
    "    \"\"\"\n",
    "    # Calculate the predicted Y\n",
    "    Y_pred = np.dot(inp, lasso_weights) + intercept\n",
    "    return Y_pred"
   ]
  },
  {
   "cell_type": "code",
   "execution_count": null,
   "metadata": {},
   "outputs": [],
   "source": [
    "weights.shape"
   ]
  },
  {
   "cell_type": "code",
   "execution_count": null,
   "metadata": {},
   "outputs": [],
   "source": [
    "weights"
   ]
  },
  {
   "cell_type": "code",
   "execution_count": null,
   "metadata": {},
   "outputs": [],
   "source": [
    "intercept"
   ]
  },
  {
   "cell_type": "code",
   "execution_count": null,
   "metadata": {},
   "outputs": [],
   "source": [
    "Y_train_pred_lasso = Predict(weights,intercept,X_train)\n",
    "Y_test_pred_lasso = Predict(weights,intercept,X_test)\n",
    "\n",
    "# Calculate MSE for Lasso\n",
    "mse_lasso_train = mean_squared_error(Y_train, Y_train_pred_lasso)\n",
    "mse_lasso_test = mean_squared_error(Y_test, Y_test_pred_lasso)\n",
    "\n",
    "print(\"Lasso MSE Train:\", mse_lasso_train)\n",
    "print(\"Lasso MSE Test:\", mse_lasso_test)"
   ]
  },
  {
   "cell_type": "code",
   "execution_count": null,
   "metadata": {},
   "outputs": [],
   "source": [
    "len(Y_train_pred_lasso)"
   ]
  },
  {
   "cell_type": "code",
   "execution_count": null,
   "metadata": {},
   "outputs": [],
   "source": []
  },
  {
   "cell_type": "code",
   "execution_count": null,
   "metadata": {},
   "outputs": [],
   "source": []
  }
 ],
 "metadata": {
  "kernelspec": {
   "display_name": "Python 3",
   "language": "python",
   "name": "python3"
  },
  "language_info": {
   "codemirror_mode": {
    "name": "ipython",
    "version": 3
   },
   "file_extension": ".py",
   "mimetype": "text/x-python",
   "name": "python",
   "nbconvert_exporter": "python",
   "pygments_lexer": "ipython3",
   "version": "3.10.8"
  }
 },
 "nbformat": 4,
 "nbformat_minor": 2
}
